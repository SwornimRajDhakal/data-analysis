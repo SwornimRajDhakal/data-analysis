{
  "cells": [
    {
      "cell_type": "markdown",
      "metadata": {
        "colab_type": "text",
        "id": "view-in-github"
      },
      "source": [
        "<a href=\"https://colab.research.google.com/github/SwornimRajDhakal/data-analysis/blob/main/priceprediction.ipynb\" target=\"_parent\"><img src=\"https://colab.research.google.com/assets/colab-badge.svg\" alt=\"Open In Colab\"/></a>"
      ]
    },
    {
      "cell_type": "code",
      "execution_count": 1,
      "metadata": {
        "id": "OhFIDeCzB0Gg"
      },
      "outputs": [
        {
          "name": "stdout",
          "output_type": "stream",
          "text": [
            "k cha bhai ?\n"
          ]
        }
      ],
      "source": [
        "print('k cha bhai ?')\n"
      ]
    },
    {
      "cell_type": "code",
      "execution_count": 2,
      "metadata": {},
      "outputs": [],
      "source": [
        "import numpy as np\n",
        "import pandas as pd\n",
        "import matplotlib.pyplot as plt\n",
        "import seaborn as sns"
      ]
    },
    {
      "cell_type": "code",
      "execution_count": 3,
      "metadata": {},
      "outputs": [
        {
          "name": "stdout",
          "output_type": "stream",
          "text": [
            "# conda environments:\n",
            "#\n",
            "base                     /home/minrows/anaconda3\n",
            "frstenv                  /home/minrows/anaconda3/envs/frstenv\n",
            "secondenv             *  /home/minrows/anaconda3/envs/secondenv\n",
            "\n",
            "\n",
            "Note: you may need to restart the kernel to use updated packages.\n"
          ]
        }
      ],
      "source": [
        "conda info --envs"
      ]
    },
    {
      "cell_type": "code",
      "execution_count": 4,
      "metadata": {},
      "outputs": [
        {
          "name": "stdout",
          "output_type": "stream",
          "text": [
            "Package             Version\n",
            "------------------- -------\n",
            "asttokens           2.2.1\n",
            "backcall            0.2.0\n",
            "comm                0.1.4\n",
            "contourpy           1.2.0\n",
            "cycler              0.12.1\n",
            "debugpy             1.6.7\n",
            "decorator           5.1.1\n",
            "executing           1.2.0\n",
            "fonttools           4.47.2\n",
            "importlib-metadata  6.8.0\n",
            "importlib-resources 6.1.1\n",
            "ipykernel           6.25.0\n",
            "ipython             8.14.0\n",
            "jedi                0.19.0\n",
            "jupyter_client      8.3.0\n",
            "jupyter_core        5.3.1\n",
            "kiwisolver          1.4.5\n",
            "matplotlib          3.8.2\n",
            "matplotlib-inline   0.1.6\n",
            "nest-asyncio        1.5.7\n",
            "numpy               1.25.2\n",
            "packaging           23.1\n",
            "pandas              2.0.3\n",
            "parso               0.8.3\n",
            "pexpect             4.8.0\n",
            "pickleshare         0.7.5\n",
            "pillow              10.2.0\n",
            "pip                 23.2.1\n",
            "platformdirs        3.10.0\n",
            "prompt-toolkit      3.0.39\n",
            "psutil              5.9.5\n",
            "ptyprocess          0.7.0\n",
            "pure-eval           0.2.2\n",
            "Pygments            2.15.1\n",
            "pyparsing           3.1.1\n",
            "python-dateutil     2.8.2\n",
            "pytz                2023.3\n",
            "pyzmq               25.1.0\n",
            "seaborn             0.13.2\n",
            "setuptools          68.0.0\n",
            "six                 1.16.0\n",
            "stack-data          0.6.2\n",
            "tornado             6.3.2\n",
            "traitlets           5.9.0\n",
            "typing_extensions   4.7.1\n",
            "tzdata              2023.3\n",
            "wcwidth             0.2.6\n",
            "wheel               0.38.4\n",
            "zipp                3.16.2\n",
            "Note: you may need to restart the kernel to use updated packages.\n"
          ]
        }
      ],
      "source": [
        "pip list"
      ]
    },
    {
      "cell_type": "code",
      "execution_count": 5,
      "metadata": {},
      "outputs": [
        {
          "name": "stdout",
          "output_type": "stream",
          "text": [
            "Requirement already satisfied: matplotlib in /home/minrows/anaconda3/envs/secondenv/lib/python3.9/site-packages (3.8.2)\n",
            "Requirement already satisfied: contourpy>=1.0.1 in /home/minrows/anaconda3/envs/secondenv/lib/python3.9/site-packages (from matplotlib) (1.2.0)\n",
            "Requirement already satisfied: cycler>=0.10 in /home/minrows/anaconda3/envs/secondenv/lib/python3.9/site-packages (from matplotlib) (0.12.1)\n",
            "Requirement already satisfied: fonttools>=4.22.0 in /home/minrows/anaconda3/envs/secondenv/lib/python3.9/site-packages (from matplotlib) (4.47.2)\n",
            "Requirement already satisfied: kiwisolver>=1.3.1 in /home/minrows/anaconda3/envs/secondenv/lib/python3.9/site-packages (from matplotlib) (1.4.5)\n",
            "Requirement already satisfied: numpy<2,>=1.21 in /home/minrows/anaconda3/envs/secondenv/lib/python3.9/site-packages (from matplotlib) (1.25.2)\n",
            "Requirement already satisfied: packaging>=20.0 in /home/minrows/anaconda3/envs/secondenv/lib/python3.9/site-packages (from matplotlib) (23.1)\n",
            "Requirement already satisfied: pillow>=8 in /home/minrows/anaconda3/envs/secondenv/lib/python3.9/site-packages (from matplotlib) (10.2.0)\n",
            "Requirement already satisfied: pyparsing>=2.3.1 in /home/minrows/anaconda3/envs/secondenv/lib/python3.9/site-packages (from matplotlib) (3.1.1)\n",
            "Requirement already satisfied: python-dateutil>=2.7 in /home/minrows/anaconda3/envs/secondenv/lib/python3.9/site-packages (from matplotlib) (2.8.2)\n",
            "Requirement already satisfied: importlib-resources>=3.2.0 in /home/minrows/anaconda3/envs/secondenv/lib/python3.9/site-packages (from matplotlib) (6.1.1)\n",
            "Requirement already satisfied: zipp>=3.1.0 in /home/minrows/anaconda3/envs/secondenv/lib/python3.9/site-packages (from importlib-resources>=3.2.0->matplotlib) (3.16.2)\n",
            "Requirement already satisfied: six>=1.5 in /home/minrows/anaconda3/envs/secondenv/lib/python3.9/site-packages (from python-dateutil>=2.7->matplotlib) (1.16.0)\n"
          ]
        }
      ],
      "source": [
        "!pip install matplotlib\n"
      ]
    },
    {
      "cell_type": "code",
      "execution_count": 6,
      "metadata": {},
      "outputs": [
        {
          "name": "stdout",
          "output_type": "stream",
          "text": [
            "Requirement already satisfied: seaborn in /home/minrows/anaconda3/envs/secondenv/lib/python3.9/site-packages (0.13.2)\n",
            "Requirement already satisfied: numpy!=1.24.0,>=1.20 in /home/minrows/anaconda3/envs/secondenv/lib/python3.9/site-packages (from seaborn) (1.25.2)\n",
            "Requirement already satisfied: pandas>=1.2 in /home/minrows/anaconda3/envs/secondenv/lib/python3.9/site-packages (from seaborn) (2.0.3)\n",
            "Requirement already satisfied: matplotlib!=3.6.1,>=3.4 in /home/minrows/anaconda3/envs/secondenv/lib/python3.9/site-packages (from seaborn) (3.8.2)\n",
            "Requirement already satisfied: contourpy>=1.0.1 in /home/minrows/anaconda3/envs/secondenv/lib/python3.9/site-packages (from matplotlib!=3.6.1,>=3.4->seaborn) (1.2.0)\n",
            "Requirement already satisfied: cycler>=0.10 in /home/minrows/anaconda3/envs/secondenv/lib/python3.9/site-packages (from matplotlib!=3.6.1,>=3.4->seaborn) (0.12.1)\n",
            "Requirement already satisfied: fonttools>=4.22.0 in /home/minrows/anaconda3/envs/secondenv/lib/python3.9/site-packages (from matplotlib!=3.6.1,>=3.4->seaborn) (4.47.2)\n",
            "Requirement already satisfied: kiwisolver>=1.3.1 in /home/minrows/anaconda3/envs/secondenv/lib/python3.9/site-packages (from matplotlib!=3.6.1,>=3.4->seaborn) (1.4.5)\n",
            "Requirement already satisfied: packaging>=20.0 in /home/minrows/anaconda3/envs/secondenv/lib/python3.9/site-packages (from matplotlib!=3.6.1,>=3.4->seaborn) (23.1)\n",
            "Requirement already satisfied: pillow>=8 in /home/minrows/anaconda3/envs/secondenv/lib/python3.9/site-packages (from matplotlib!=3.6.1,>=3.4->seaborn) (10.2.0)\n",
            "Requirement already satisfied: pyparsing>=2.3.1 in /home/minrows/anaconda3/envs/secondenv/lib/python3.9/site-packages (from matplotlib!=3.6.1,>=3.4->seaborn) (3.1.1)\n",
            "Requirement already satisfied: python-dateutil>=2.7 in /home/minrows/anaconda3/envs/secondenv/lib/python3.9/site-packages (from matplotlib!=3.6.1,>=3.4->seaborn) (2.8.2)\n",
            "Requirement already satisfied: importlib-resources>=3.2.0 in /home/minrows/anaconda3/envs/secondenv/lib/python3.9/site-packages (from matplotlib!=3.6.1,>=3.4->seaborn) (6.1.1)\n",
            "Requirement already satisfied: pytz>=2020.1 in /home/minrows/anaconda3/envs/secondenv/lib/python3.9/site-packages (from pandas>=1.2->seaborn) (2023.3)\n",
            "Requirement already satisfied: tzdata>=2022.1 in /home/minrows/anaconda3/envs/secondenv/lib/python3.9/site-packages (from pandas>=1.2->seaborn) (2023.3)\n",
            "Requirement already satisfied: zipp>=3.1.0 in /home/minrows/anaconda3/envs/secondenv/lib/python3.9/site-packages (from importlib-resources>=3.2.0->matplotlib!=3.6.1,>=3.4->seaborn) (3.16.2)\n",
            "Requirement already satisfied: six>=1.5 in /home/minrows/anaconda3/envs/secondenv/lib/python3.9/site-packages (from python-dateutil>=2.7->matplotlib!=3.6.1,>=3.4->seaborn) (1.16.0)\n"
          ]
        }
      ],
      "source": [
        "!pip install seaborn"
      ]
    },
    {
      "cell_type": "code",
      "execution_count": null,
      "metadata": {},
      "outputs": [],
      "source": []
    }
  ],
  "metadata": {
    "colab": {
      "authorship_tag": "ABX9TyPnxuQ9bMzN4b+pqvkL6580",
      "include_colab_link": true,
      "provenance": []
    },
    "kernelspec": {
      "display_name": "secondenv",
      "language": "python",
      "name": "secondenv"
    },
    "language_info": {
      "codemirror_mode": {
        "name": "ipython",
        "version": 3
      },
      "file_extension": ".py",
      "mimetype": "text/x-python",
      "name": "python",
      "nbconvert_exporter": "python",
      "pygments_lexer": "ipython3",
      "version": "3.9.17"
    }
  },
  "nbformat": 4,
  "nbformat_minor": 0
}
